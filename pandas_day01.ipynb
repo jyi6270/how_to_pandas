{
 "cells": [
  {
   "cell_type": "markdown",
   "id": "79eb8dd3",
   "metadata": {},
   "source": [
    "#### 학습목표\n",
    "- 분석하려는 데이터는 대부분 .csv 파일을 테이블형식으로 처리할 수 있는 타입\n",
    "- 제공되는 2 type: Series, DataFrame\n",
    "- Series: index + value"
   ]
  },
  {
   "cell_type": "code",
   "execution_count": 1,
   "id": "f5180162",
   "metadata": {},
   "outputs": [
    {
     "name": "stdout",
     "output_type": "stream",
     "text": [
      "numpy version -  1.21.5\n",
      "pandas version -  1.4.2\n"
     ]
    }
   ],
   "source": [
    "import numpy as np\n",
    "import pandas as pd\n",
    "\n",
    "import matplotlib.pyplot as plt\n",
    "import json\n",
    "\n",
    "import warnings\n",
    "warnings.filterwarnings(\"ignore\")\n",
    "\n",
    "print('numpy version - ', np.__version__)\n",
    "print('pandas version - ', pd.__version__)"
   ]
  },
  {
   "cell_type": "code",
   "execution_count": 2,
   "id": "3412f675",
   "metadata": {},
   "outputs": [],
   "source": [
    "def seriesInfo(s):\n",
    "    print('index - ', s.index, type(s.index))\n",
    "    print('value - ', s.values, type(s.values))\n",
    "    print()\n",
    "    print('data - ')\n",
    "    print(s)"
   ]
  },
  {
   "cell_type": "code",
   "execution_count": 3,
   "id": "d27b903b",
   "metadata": {},
   "outputs": [
    {
     "name": "stdout",
     "output_type": "stream",
     "text": [
      "index -  RangeIndex(start=0, stop=5, step=1) <class 'pandas.core.indexes.range.RangeIndex'>\n",
      "value -  [1. 2. 3. 4. 5.] <class 'numpy.ndarray'>\n",
      "\n",
      "data - \n",
      "0    1.0\n",
      "1    2.0\n",
      "2    3.0\n",
      "3    4.0\n",
      "4    5.0\n",
      "dtype: float64\n"
     ]
    }
   ],
   "source": [
    "s = pd.Series([1,2,3,4,5], dtype=np.float)\n",
    "seriesInfo(s)"
   ]
  },
  {
   "cell_type": "code",
   "execution_count": 4,
   "id": "14724be6",
   "metadata": {},
   "outputs": [
    {
     "name": "stdout",
     "output_type": "stream",
     "text": [
      "index -  Index(['a', 'b', 'c'], dtype='object') <class 'pandas.core.indexes.base.Index'>\n",
      "value -  [1. 2. 3.] <class 'numpy.ndarray'>\n",
      "\n",
      "data - \n",
      "a    1.0\n",
      "b    2.0\n",
      "c    3.0\n",
      "dtype: float64\n"
     ]
    }
   ],
   "source": [
    "s = pd.Series({'a':1, 'b':2, 'c':3}, dtype=np.float)\n",
    "seriesInfo(s)"
   ]
  },
  {
   "cell_type": "markdown",
   "id": "1ccce081",
   "metadata": {},
   "source": [
    "- 인덱스의 라벨은 정수, 문자, 날짜, 시간"
   ]
  },
  {
   "cell_type": "code",
   "execution_count": 7,
   "id": "681780c6",
   "metadata": {},
   "outputs": [
    {
     "name": "stdout",
     "output_type": "stream",
     "text": [
      "index -  Index(['강남', '서초', '방배', '동작', '신도림'], dtype='object') <class 'pandas.core.indexes.base.Index'>\n",
      "value -  [1 2 3 4 5] <class 'numpy.ndarray'>\n",
      "\n",
      "data - \n",
      "강남     1\n",
      "서초     2\n",
      "방배     3\n",
      "동작     4\n",
      "신도림    5\n",
      "dtype: int64\n"
     ]
    }
   ],
   "source": [
    "s = pd.Series([1,2,3,4,5],\n",
    "             index = ['강남', '서초', '방배', '동작', '신도림'])\n",
    "seriesInfo(s)"
   ]
  },
  {
   "cell_type": "markdown",
   "id": "faba9519",
   "metadata": {},
   "source": [
    "- name: 시리즈 데이터에 이름을 부여해주는 역할\n",
    "- index.name: 시리즈의 인덱스에 이름을 부여해주는 역할"
   ]
  },
  {
   "cell_type": "code",
   "execution_count": 8,
   "id": "62229233",
   "metadata": {},
   "outputs": [
    {
     "name": "stdout",
     "output_type": "stream",
     "text": [
      "index -  Index(['강남', '서초', '방배', '동작', '신도림'], dtype='object', name='구 구별') <class 'pandas.core.indexes.base.Index'>\n",
      "value -  [1 2 3 4 5] <class 'numpy.ndarray'>\n",
      "\n",
      "data - \n",
      "구 구별\n",
      "강남     1\n",
      "서초     2\n",
      "방배     3\n",
      "동작     4\n",
      "신도림    5\n",
      "Name: 데이터에 이름 부여, dtype: int64\n"
     ]
    }
   ],
   "source": [
    "s.name = '데이터에 이름 부여'\n",
    "s.index.name = '구 구별'\n",
    "seriesInfo(s)"
   ]
  },
  {
   "cell_type": "code",
   "execution_count": 12,
   "id": "9473c0f3",
   "metadata": {},
   "outputs": [
    {
     "name": "stdout",
     "output_type": "stream",
     "text": [
      "index -  Index(['이름', '생년월일', '성별', '결혼여부'], dtype='object') <class 'pandas.core.indexes.base.Index'>\n",
      "value -  ['섭섭해' '2022-11-10' '남자' True] <class 'numpy.ndarray'>\n",
      "\n",
      "data - \n",
      "이름             섭섭해\n",
      "생년월일    2022-11-10\n",
      "성별              남자\n",
      "결혼여부          True\n",
      "dtype: object\n"
     ]
    }
   ],
   "source": [
    "tmp_data = ('섭섭해', '2022-11-10', '남자', True)\n",
    "s = pd.Series(tmp_data, dtype = np.object,\n",
    "             index = ['이름', '생년월일', '성별', '결혼여부'])\n",
    "seriesInfo(s)"
   ]
  },
  {
   "cell_type": "markdown",
   "id": "a1162252",
   "metadata": {},
   "source": [
    "- series에서 원소를 선택하기 위해서는?\n",
    "- 정수형 위치 인덱스 또는 인덱스 이름을 활용해야 한다\n"
   ]
  },
  {
   "cell_type": "code",
   "execution_count": 16,
   "id": "aa90dd93",
   "metadata": {},
   "outputs": [
    {
     "name": "stdout",
     "output_type": "stream",
     "text": [
      "정수 인덱싱 -  섭섭해 <class 'str'>\n",
      "인덱스 이름 -  섭섭해 <class 'str'>\n",
      "\n",
      "이름             섭섭해\n",
      "생년월일    2022-11-10\n",
      "dtype: object\n",
      "이름             섭섭해\n",
      "생년월일    2022-11-10\n",
      "dtype: object\n",
      "\n",
      "범위지정 - slicing\n",
      "이름             섭섭해\n",
      "생년월일    2022-11-10\n",
      "성별              남자\n",
      "dtype: object\n",
      "이름             섭섭해\n",
      "생년월일    2022-11-10\n",
      "성별              남자\n",
      "dtype: object\n"
     ]
    }
   ],
   "source": [
    "print('정수 인덱싱 - ', s[0], type(s[0]))\n",
    "print('인덱스 이름 - ', s['이름'], type(s['이름']))\n",
    "print()\n",
    "\n",
    "print(s[[0,1]])\n",
    "print(s[['이름', '생년월일']])\n",
    "print()\n",
    "\n",
    "print('범위지정 - slicing')\n",
    "print(s['이름': '성별'])\n",
    "print(s[0:3])"
   ]
  },
  {
   "cell_type": "code",
   "execution_count": 18,
   "id": "5819d714",
   "metadata": {},
   "outputs": [
    {
     "name": "stdout",
     "output_type": "stream",
     "text": [
      "idx : 이름, \t\tvalue : 섭섭해\n",
      "idx : 생년월일, \t\tvalue : 2022-11-10\n",
      "idx : 성별, \t\tvalue : 남자\n",
      "idx : 결혼여부, \t\tvalue : True\n",
      "\n",
      "idx : 이름\n",
      "idx : 생년월일\n",
      "idx : 성별\n",
      "idx : 결혼여부\n",
      "\n",
      "value: 섭섭해\n",
      "value: 2022-11-10\n",
      "value: 남자\n",
      "value: True\n"
     ]
    }
   ],
   "source": [
    "for idx, value in s.items() :\n",
    "    print('idx : {}, \\t\\tvalue : {}'.format(idx, value))\n",
    "print()\n",
    "\n",
    "for idx in s.keys() :\n",
    "    print('idx : {}'.format(idx))\n",
    "print()\n",
    "\n",
    "for value in s.values:\n",
    "    print('value: {}'.format(value))"
   ]
  },
  {
   "cell_type": "code",
   "execution_count": 19,
   "id": "06df5c7f",
   "metadata": {},
   "outputs": [
    {
     "data": {
      "text/plain": [
       "Index(['이름', '생년월일', '성별', '결혼여부'], dtype='object')"
      ]
     },
     "execution_count": 19,
     "metadata": {},
     "output_type": "execute_result"
    }
   ],
   "source": [
    "s.index"
   ]
  },
  {
   "cell_type": "code",
   "execution_count": 20,
   "id": "498072ca",
   "metadata": {},
   "outputs": [
    {
     "data": {
      "text/plain": [
       "array(['섭섭해', '2022-11-10', '남자', True], dtype=object)"
      ]
     },
     "execution_count": 20,
     "metadata": {},
     "output_type": "execute_result"
    }
   ],
   "source": [
    "s.values"
   ]
  },
  {
   "cell_type": "code",
   "execution_count": 21,
   "id": "3bf337a6",
   "metadata": {},
   "outputs": [
    {
     "name": "stdout",
     "output_type": "stream",
     "text": [
      "index -  RangeIndex(start=0, stop=11, step=1) <class 'pandas.core.indexes.range.RangeIndex'>\n",
      "value -  [10 11 12 13 14 15 16 17 18 19 20] <class 'numpy.ndarray'>\n",
      "\n",
      "data - \n",
      "0     10\n",
      "1     11\n",
      "2     12\n",
      "3     13\n",
      "4     14\n",
      "5     15\n",
      "6     16\n",
      "7     17\n",
      "8     18\n",
      "9     19\n",
      "10    20\n",
      "dtype: int64\n"
     ]
    }
   ],
   "source": [
    "s= pd.Series(range(10,21))\n",
    "seriesInfo(s)"
   ]
  },
  {
   "cell_type": "code",
   "execution_count": 22,
   "id": "247a5159",
   "metadata": {},
   "outputs": [
    {
     "name": "stdout",
     "output_type": "stream",
     "text": [
      "시리즈의 데이터는 배열이므로 벡터화 연산이 가능하다 - \n"
     ]
    },
    {
     "data": {
      "text/plain": [
       "0     200\n",
       "1     220\n",
       "2     240\n",
       "3     260\n",
       "4     280\n",
       "5     300\n",
       "6     320\n",
       "7     340\n",
       "8     360\n",
       "9     380\n",
       "10    400\n",
       "dtype: int64"
      ]
     },
     "execution_count": 22,
     "metadata": {},
     "output_type": "execute_result"
    }
   ],
   "source": [
    "print('시리즈의 데이터는 배열이므로 벡터화 연산이 가능하다 - ')\n",
    "s * 20"
   ]
  },
  {
   "cell_type": "code",
   "execution_count": 23,
   "id": "70eee699",
   "metadata": {},
   "outputs": [
    {
     "name": "stdout",
     "output_type": "stream",
     "text": [
      "2의 배수인 것만 추출 - \n"
     ]
    },
    {
     "data": {
      "text/plain": [
       "0     10\n",
       "2     12\n",
       "4     14\n",
       "6     16\n",
       "8     18\n",
       "10    20\n",
       "dtype: int64"
      ]
     },
     "execution_count": 23,
     "metadata": {},
     "output_type": "execute_result"
    }
   ],
   "source": [
    "print('2의 배수인 것만 추출 - ')\n",
    "s[s%2 == 0]"
   ]
  },
  {
   "cell_type": "code",
   "execution_count": 24,
   "id": "ce0ae60b",
   "metadata": {},
   "outputs": [],
   "source": [
    "from datetime import date, datetime, timedelta\n",
    "from dateutil.parser import parse"
   ]
  },
  {
   "cell_type": "code",
   "execution_count": 25,
   "id": "70424e6d",
   "metadata": {},
   "outputs": [
    {
     "name": "stdout",
     "output_type": "stream",
     "text": [
      "2022-11-11 00:00:00\n"
     ]
    }
   ],
   "source": [
    "day = datetime(2022, 11, 10)\n",
    "print(day + timedelta(days=1))"
   ]
  },
  {
   "cell_type": "markdown",
   "id": "04462565",
   "metadata": {},
   "source": [
    "- 평균이 50이고 편차 5 정규분포 데이터를 10일간 만들고 싶다면?"
   ]
  },
  {
   "cell_type": "code",
   "execution_count": 31,
   "id": "f775239b",
   "metadata": {},
   "outputs": [
    {
     "data": {
      "text/plain": [
       "array([60.62544598, 47.32405731, 56.72439685, 48.30823329, 49.46910552,\n",
       "       48.28829455, 54.00162691, 59.91710431, 47.83661914, 47.2786089 ])"
      ]
     },
     "execution_count": 31,
     "metadata": {},
     "output_type": "execute_result"
    }
   ],
   "source": [
    "np.random.normal(50, 5, (10,))"
   ]
  },
  {
   "cell_type": "code",
   "execution_count": 33,
   "id": "19813c09",
   "metadata": {},
   "outputs": [
    {
     "data": {
      "text/plain": [
       "2022-11-10    47.349038\n",
       "2022-11-11    47.887336\n",
       "2022-11-12    46.803442\n",
       "2022-11-13    43.369385\n",
       "2022-11-14    49.373680\n",
       "2022-11-15    56.821507\n",
       "2022-11-16    52.494063\n",
       "2022-11-17    56.681184\n",
       "2022-11-18    47.260392\n",
       "2022-11-19    48.572947\n",
       "dtype: float64"
      ]
     },
     "execution_count": 33,
     "metadata": {},
     "output_type": "execute_result"
    }
   ],
   "source": [
    "series01 = pd.Series(np.random.normal(50, 5, (10,)),\n",
    "                    index = [ day + timedelta(days=d) for d in range(10)])\n",
    "series01"
   ]
  },
  {
   "cell_type": "markdown",
   "id": "a182c9e6",
   "metadata": {},
   "source": [
    "- 데이터 갱신"
   ]
  },
  {
   "cell_type": "code",
   "execution_count": 37,
   "id": "a208e078",
   "metadata": {},
   "outputs": [
    {
     "name": "stdout",
     "output_type": "stream",
     "text": [
      "index -  Index(['a', 'b', 'c', 'd'], dtype='object') <class 'pandas.core.indexes.base.Index'>\n",
      "value -  [4000 3000 3500 2000] <class 'numpy.ndarray'>\n",
      "\n",
      "data - \n",
      "a    4000\n",
      "b    3000\n",
      "c    3500\n",
      "d    2000\n",
      "dtype: int64\n",
      "\n",
      "index -  Index(['a', 'b', 'c', 'd'], dtype='object') <class 'pandas.core.indexes.base.Index'>\n",
      "value -  [5000 3000 3500 2000] <class 'numpy.ndarray'>\n",
      "\n",
      "data - \n",
      "a    5000\n",
      "b    3000\n",
      "c    3500\n",
      "d    2000\n",
      "dtype: int64\n"
     ]
    }
   ],
   "source": [
    "price_series = pd.Series([4000, 3000, 3500, 2000],\n",
    "                       index = ['a', 'b', 'c', 'd'])\n",
    "seriesInfo(price_series)\n",
    "print()\n",
    "\n",
    "price_series[0] = 5000\n",
    "seriesInfo(price_series)"
   ]
  },
  {
   "cell_type": "markdown",
   "id": "364e33fd",
   "metadata": {},
   "source": [
    "- 데이터 삭제\n",
    "- del"
   ]
  },
  {
   "cell_type": "code",
   "execution_count": 38,
   "id": "084bc66d",
   "metadata": {},
   "outputs": [
    {
     "name": "stdout",
     "output_type": "stream",
     "text": [
      "index -  Index(['a', 'b', 'c', 'd', 'e'], dtype='object') <class 'pandas.core.indexes.base.Index'>\n",
      "value -  [5000 3000 3500 2000 9000] <class 'numpy.ndarray'>\n",
      "\n",
      "data - \n",
      "a    5000\n",
      "b    3000\n",
      "c    3500\n",
      "d    2000\n",
      "e    9000\n",
      "dtype: int64\n",
      "\n",
      "index -  Index(['a', 'b', 'c', 'd'], dtype='object') <class 'pandas.core.indexes.base.Index'>\n",
      "value -  [5000 3000 3500 2000] <class 'numpy.ndarray'>\n",
      "\n",
      "data - \n",
      "a    5000\n",
      "b    3000\n",
      "c    3500\n",
      "d    2000\n",
      "dtype: int64\n"
     ]
    }
   ],
   "source": [
    "price_series['e'] = 9000\n",
    "seriesInfo(price_series)\n",
    "print()\n",
    "\n",
    "del price_series['e']\n",
    "seriesInfo(price_series)"
   ]
  },
  {
   "cell_type": "code",
   "execution_count": 39,
   "id": "53d24a80",
   "metadata": {},
   "outputs": [
    {
     "name": "stdout",
     "output_type": "stream",
     "text": [
      "index -  Index(['a', 'b', 'c', 'd', 'e'], dtype='object') <class 'pandas.core.indexes.base.Index'>\n",
      "value -  [5000. 3000. 3500. 2000.   nan] <class 'numpy.ndarray'>\n",
      "\n",
      "data - \n",
      "a    5000.0\n",
      "b    3000.0\n",
      "c    3500.0\n",
      "d    2000.0\n",
      "e       NaN\n",
      "dtype: float64\n"
     ]
    }
   ],
   "source": [
    "price_series['e'] = np.NaN\n",
    "seriesInfo(price_series)"
   ]
  },
  {
   "cell_type": "code",
   "execution_count": 43,
   "id": "b1e8d474",
   "metadata": {},
   "outputs": [
    {
     "name": "stdout",
     "output_type": "stream",
     "text": [
      "isnull - \n",
      "a    False\n",
      "b    False\n",
      "c    False\n",
      "d    False\n",
      "e     True\n",
      "dtype: bool\n",
      "\n",
      "e   NaN\n",
      "dtype: float64\n",
      "\n",
      "e   NaN\n",
      "dtype: float64\n",
      "\n",
      "notnull - \n",
      "a    5000.0\n",
      "b    3000.0\n",
      "c    3500.0\n",
      "d    2000.0\n",
      "dtype: float64\n"
     ]
    }
   ],
   "source": [
    "print('isnull - ')\n",
    "print(pd.isnull(price_series))\n",
    "print()\n",
    "\n",
    "print(price_series[pd.isnull(price_series)])\n",
    "print()\n",
    "\n",
    "print(price_series[price_series.isnull()])\n",
    "print()\n",
    "\n",
    "print('notnull - ')\n",
    "print(price_series[price_series.notnull()])"
   ]
  },
  {
   "cell_type": "code",
   "execution_count": 44,
   "id": "c13b27da",
   "metadata": {},
   "outputs": [
    {
     "data": {
      "text/plain": [
       "a    400\n",
       "o    200\n",
       "k    350\n",
       "m    500\n",
       "dtype: int64"
      ]
     },
     "execution_count": 44,
     "metadata": {},
     "output_type": "execute_result"
    }
   ],
   "source": [
    "series01 = pd.Series([400,200,350,500],\n",
    "                    index = ['a', 'o', 'k', 'm'])\n",
    "series01"
   ]
  },
  {
   "cell_type": "code",
   "execution_count": 45,
   "id": "601c20e4",
   "metadata": {},
   "outputs": [
    {
     "data": {
      "text/plain": [
       "o    400\n",
       "a    200\n",
       "h    350\n",
       "m    500\n",
       "dtype: int64"
      ]
     },
     "execution_count": 45,
     "metadata": {},
     "output_type": "execute_result"
    }
   ],
   "source": [
    "series02 = pd.Series([400,200,350,500],\n",
    "                    index = ['o', 'a', 'h', 'm'])\n",
    "series02"
   ]
  },
  {
   "cell_type": "code",
   "execution_count": 54,
   "id": "81c99b30",
   "metadata": {},
   "outputs": [
    {
     "name": "stdout",
     "output_type": "stream",
     "text": [
      "a     600.0\n",
      "h       NaN\n",
      "k       NaN\n",
      "m    1000.0\n",
      "o     600.0\n",
      "dtype: float64\n",
      "\n",
      "mean -  733.3333333333334\n",
      "mean -  733.3333333333334\n",
      "mean -  440.0\n",
      "fillna() - \n",
      "a     600.0\n",
      "h       0.0\n",
      "k       0.0\n",
      "m    1000.0\n",
      "o     600.0\n",
      "dtype: float64\n",
      "mean -  440.0\n",
      "\n",
      "a     600.0\n",
      "h     350.0\n",
      "k     350.0\n",
      "m    1000.0\n",
      "o     600.0\n",
      "dtype: float64\n",
      "\n",
      "len() -  5\n"
     ]
    }
   ],
   "source": [
    "series03 = series01 + series02\n",
    "print(series03)\n",
    "print()\n",
    "\n",
    "print('mean - ', np.mean(series03))\n",
    "print('mean - ', series03.mean())\n",
    "print('mean - ', series03.sum() / len(series03))\n",
    "\n",
    "print('fillna() - ')\n",
    "print(series03.fillna(0))\n",
    "series04 = series03.fillna(0)\n",
    "print('mean - ', series04.mean())\n",
    "print()\n",
    "\n",
    "series03 = series01.add(series02, fill_value = 0)\n",
    "print(series03)\n",
    "print()\n",
    "\n",
    "print('len() - ', len(series03))"
   ]
  },
  {
   "cell_type": "code",
   "execution_count": 55,
   "id": "8bd83e3e",
   "metadata": {},
   "outputs": [
    {
     "name": "stdout",
     "output_type": "stream",
     "text": [
      "a     600.0\n",
      "h     350.0\n",
      "k     350.0\n",
      "m    1000.0\n",
      "o     600.0\n",
      "dtype: float64\n",
      "결측값을 제외한 subset - \n",
      "a     600.0\n",
      "h     350.0\n",
      "k     350.0\n",
      "m    1000.0\n",
      "o     600.0\n",
      "dtype: float64\n"
     ]
    }
   ],
   "source": [
    "print(series03)\n",
    "print('결측값을 제외한 subset - ')\n",
    "series05 = series03[pd.notnull(series03)]\n",
    "print(series05)"
   ]
  },
  {
   "cell_type": "markdown",
   "id": "87af0114",
   "metadata": {},
   "source": [
    "- DataFrame: pd.DataFrame()\n",
    "- 행 인덱스(문자), 열 인덱스(문자)"
   ]
  },
  {
   "cell_type": "code",
   "execution_count": 56,
   "id": "cfd9226a",
   "metadata": {},
   "outputs": [
    {
     "name": "stdout",
     "output_type": "stream",
     "text": [
      "dict 이용한 생성 - \n"
     ]
    },
    {
     "data": {
      "text/html": [
       "<div>\n",
       "<style scoped>\n",
       "    .dataframe tbody tr th:only-of-type {\n",
       "        vertical-align: middle;\n",
       "    }\n",
       "\n",
       "    .dataframe tbody tr th {\n",
       "        vertical-align: top;\n",
       "    }\n",
       "\n",
       "    .dataframe thead th {\n",
       "        text-align: right;\n",
       "    }\n",
       "</style>\n",
       "<table border=\"1\" class=\"dataframe\">\n",
       "  <thead>\n",
       "    <tr style=\"text-align: right;\">\n",
       "      <th></th>\n",
       "      <th>feature01</th>\n",
       "      <th>feature02</th>\n",
       "      <th>feature03</th>\n",
       "      <th>feature04</th>\n",
       "      <th>feature05</th>\n",
       "    </tr>\n",
       "  </thead>\n",
       "  <tbody>\n",
       "    <tr>\n",
       "      <th>0</th>\n",
       "      <td>1</td>\n",
       "      <td>1</td>\n",
       "      <td>1</td>\n",
       "      <td>1</td>\n",
       "      <td>1</td>\n",
       "    </tr>\n",
       "    <tr>\n",
       "      <th>1</th>\n",
       "      <td>2</td>\n",
       "      <td>2</td>\n",
       "      <td>2</td>\n",
       "      <td>2</td>\n",
       "      <td>2</td>\n",
       "    </tr>\n",
       "    <tr>\n",
       "      <th>2</th>\n",
       "      <td>3</td>\n",
       "      <td>3</td>\n",
       "      <td>3</td>\n",
       "      <td>3</td>\n",
       "      <td>3</td>\n",
       "    </tr>\n",
       "  </tbody>\n",
       "</table>\n",
       "</div>"
      ],
      "text/plain": [
       "   feature01  feature02  feature03  feature04  feature05\n",
       "0          1          1          1          1          1\n",
       "1          2          2          2          2          2\n",
       "2          3          3          3          3          3"
      ]
     },
     "execution_count": 56,
     "metadata": {},
     "output_type": "execute_result"
    }
   ],
   "source": [
    "print('dict 이용한 생성 - ')\n",
    "dict_data = {\n",
    "    'feature01': [1,2,3],\n",
    "    'feature02': [1,2,3],\n",
    "    'feature03': [1,2,3],\n",
    "    'feature04': [1,2,3],\n",
    "    'feature05': [1,2,3]    \n",
    "}\n",
    "tmp_frm = pd.DataFrame(dict_data)\n",
    "tmp_frm"
   ]
  },
  {
   "cell_type": "code",
   "execution_count": 81,
   "id": "3998dc9d",
   "metadata": {},
   "outputs": [],
   "source": [
    "def frmInfo(df):\n",
    "    print('shape - ', df.shape)\n",
    "    print('size - ', df.size)\n",
    "    print('ndim - ', df.ndim)\n",
    "    print('row index - ', df.index, type(df.index))\n",
    "    print('col index - ', df.columns, type(df.columns))\n",
    "    print('values - ', df.values)\n",
    "    print()\n",
    "    print('data - ')\n",
    "    display(df)"
   ]
  },
  {
   "cell_type": "code",
   "execution_count": 82,
   "id": "9a985502",
   "metadata": {},
   "outputs": [
    {
     "name": "stdout",
     "output_type": "stream",
     "text": [
      "shape -  (3, 5)\n",
      "size -  15\n",
      "ndim -  2\n",
      "row index -  RangeIndex(start=0, stop=3, step=1) <class 'pandas.core.indexes.range.RangeIndex'>\n",
      "col index -  Index(['feature01', 'feature02', 'feature03', 'feature04', 'feature05'], dtype='object') <class 'pandas.core.indexes.base.Index'>\n",
      "values -  [[1 1 1 1 1]\n",
      " [2 2 2 2 2]\n",
      " [3 3 3 3 3]]\n",
      "\n",
      "data - \n"
     ]
    },
    {
     "data": {
      "text/html": [
       "<div>\n",
       "<style scoped>\n",
       "    .dataframe tbody tr th:only-of-type {\n",
       "        vertical-align: middle;\n",
       "    }\n",
       "\n",
       "    .dataframe tbody tr th {\n",
       "        vertical-align: top;\n",
       "    }\n",
       "\n",
       "    .dataframe thead th {\n",
       "        text-align: right;\n",
       "    }\n",
       "</style>\n",
       "<table border=\"1\" class=\"dataframe\">\n",
       "  <thead>\n",
       "    <tr style=\"text-align: right;\">\n",
       "      <th></th>\n",
       "      <th>feature01</th>\n",
       "      <th>feature02</th>\n",
       "      <th>feature03</th>\n",
       "      <th>feature04</th>\n",
       "      <th>feature05</th>\n",
       "    </tr>\n",
       "  </thead>\n",
       "  <tbody>\n",
       "    <tr>\n",
       "      <th>0</th>\n",
       "      <td>1</td>\n",
       "      <td>1</td>\n",
       "      <td>1</td>\n",
       "      <td>1</td>\n",
       "      <td>1</td>\n",
       "    </tr>\n",
       "    <tr>\n",
       "      <th>1</th>\n",
       "      <td>2</td>\n",
       "      <td>2</td>\n",
       "      <td>2</td>\n",
       "      <td>2</td>\n",
       "      <td>2</td>\n",
       "    </tr>\n",
       "    <tr>\n",
       "      <th>2</th>\n",
       "      <td>3</td>\n",
       "      <td>3</td>\n",
       "      <td>3</td>\n",
       "      <td>3</td>\n",
       "      <td>3</td>\n",
       "    </tr>\n",
       "  </tbody>\n",
       "</table>\n",
       "</div>"
      ],
      "text/plain": [
       "   feature01  feature02  feature03  feature04  feature05\n",
       "0          1          1          1          1          1\n",
       "1          2          2          2          2          2\n",
       "2          3          3          3          3          3"
      ]
     },
     "metadata": {},
     "output_type": "display_data"
    }
   ],
   "source": [
    "frmInfo(tmp_frm)"
   ]
  },
  {
   "cell_type": "code",
   "execution_count": 83,
   "id": "3425d03e",
   "metadata": {},
   "outputs": [
    {
     "name": "stdout",
     "output_type": "stream",
     "text": [
      "리스트를 이용한 생성 - \n",
      "shape -  (2, 3)\n",
      "size -  6\n",
      "ndim -  2\n",
      "row index -  Index(['user_1', 'user_2'], dtype='object') <class 'pandas.core.indexes.base.Index'>\n",
      "col index -  Index(['이름', '성별', '결혼여부'], dtype='object') <class 'pandas.core.indexes.base.Index'>\n",
      "values -  [['임정섭' 'm' True]\n",
      " ['임재원' 'm' False]]\n",
      "\n",
      "data - \n"
     ]
    },
    {
     "data": {
      "text/html": [
       "<div>\n",
       "<style scoped>\n",
       "    .dataframe tbody tr th:only-of-type {\n",
       "        vertical-align: middle;\n",
       "    }\n",
       "\n",
       "    .dataframe tbody tr th {\n",
       "        vertical-align: top;\n",
       "    }\n",
       "\n",
       "    .dataframe thead th {\n",
       "        text-align: right;\n",
       "    }\n",
       "</style>\n",
       "<table border=\"1\" class=\"dataframe\">\n",
       "  <thead>\n",
       "    <tr style=\"text-align: right;\">\n",
       "      <th></th>\n",
       "      <th>이름</th>\n",
       "      <th>성별</th>\n",
       "      <th>결혼여부</th>\n",
       "    </tr>\n",
       "  </thead>\n",
       "  <tbody>\n",
       "    <tr>\n",
       "      <th>user_1</th>\n",
       "      <td>임정섭</td>\n",
       "      <td>m</td>\n",
       "      <td>True</td>\n",
       "    </tr>\n",
       "    <tr>\n",
       "      <th>user_2</th>\n",
       "      <td>임재원</td>\n",
       "      <td>m</td>\n",
       "      <td>False</td>\n",
       "    </tr>\n",
       "  </tbody>\n",
       "</table>\n",
       "</div>"
      ],
      "text/plain": [
       "         이름 성별   결혼여부\n",
       "user_1  임정섭  m   True\n",
       "user_2  임재원  m  False"
      ]
     },
     "metadata": {},
     "output_type": "display_data"
    }
   ],
   "source": [
    "print('리스트를 이용한 생성 - ')\n",
    "list_frm = pd.DataFrame([['임정섭', 'm', True], ['임재원', 'm', False]],\n",
    "                       index = ['user_' + str(idx) for idx in range(1,3)],\n",
    "                       columns = ['이름', '성별', '결혼여부'])\n",
    "frmInfo(list_frm)"
   ]
  },
  {
   "cell_type": "code",
   "execution_count": 84,
   "id": "756962b8",
   "metadata": {},
   "outputs": [
    {
     "name": "stdout",
     "output_type": "stream",
     "text": [
      "전처리 - 열 이름 변경(영문 -> 한글, 한글 -> 영문), rename()\n",
      "원본에 반영 - inplace\n"
     ]
    }
   ],
   "source": [
    "print('전처리 - 열 이름 변경(영문 -> 한글, 한글 -> 영문), rename()')\n",
    "print('원본에 반영 - inplace')\n",
    "\n",
    "list_frm.rename(columns = {'이름': 'name', '성별' : 'gender', '결혼여부': 'marriage'}, inplace = True)"
   ]
  },
  {
   "cell_type": "code",
   "execution_count": 85,
   "id": "8067e66b",
   "metadata": {},
   "outputs": [
    {
     "data": {
      "text/html": [
       "<div>\n",
       "<style scoped>\n",
       "    .dataframe tbody tr th:only-of-type {\n",
       "        vertical-align: middle;\n",
       "    }\n",
       "\n",
       "    .dataframe tbody tr th {\n",
       "        vertical-align: top;\n",
       "    }\n",
       "\n",
       "    .dataframe thead th {\n",
       "        text-align: right;\n",
       "    }\n",
       "</style>\n",
       "<table border=\"1\" class=\"dataframe\">\n",
       "  <thead>\n",
       "    <tr style=\"text-align: right;\">\n",
       "      <th></th>\n",
       "      <th>name</th>\n",
       "      <th>gender</th>\n",
       "      <th>marriage</th>\n",
       "    </tr>\n",
       "  </thead>\n",
       "  <tbody>\n",
       "    <tr>\n",
       "      <th>user_1</th>\n",
       "      <td>임정섭</td>\n",
       "      <td>m</td>\n",
       "      <td>True</td>\n",
       "    </tr>\n",
       "    <tr>\n",
       "      <th>user_2</th>\n",
       "      <td>임재원</td>\n",
       "      <td>m</td>\n",
       "      <td>False</td>\n",
       "    </tr>\n",
       "  </tbody>\n",
       "</table>\n",
       "</div>"
      ],
      "text/plain": [
       "       name gender  marriage\n",
       "user_1  임정섭      m      True\n",
       "user_2  임재원      m     False"
      ]
     },
     "execution_count": 85,
     "metadata": {},
     "output_type": "execute_result"
    }
   ],
   "source": [
    "list_frm"
   ]
  },
  {
   "cell_type": "code",
   "execution_count": 86,
   "id": "b3fc6b24",
   "metadata": {},
   "outputs": [
    {
     "name": "stdout",
     "output_type": "stream",
     "text": [
      "shape -  (2, 3)\n",
      "size -  6\n",
      "ndim -  2\n",
      "row index -  Index(['user_1', 'user_2'], dtype='object', name='customer') <class 'pandas.core.indexes.base.Index'>\n",
      "col index -  Index(['name', 'gender', 'marriage'], dtype='object', name='feature') <class 'pandas.core.indexes.base.Index'>\n",
      "values -  [['임정섭' 'm' True]\n",
      " ['임재원' 'm' False]]\n",
      "\n",
      "data - \n"
     ]
    },
    {
     "data": {
      "text/html": [
       "<div>\n",
       "<style scoped>\n",
       "    .dataframe tbody tr th:only-of-type {\n",
       "        vertical-align: middle;\n",
       "    }\n",
       "\n",
       "    .dataframe tbody tr th {\n",
       "        vertical-align: top;\n",
       "    }\n",
       "\n",
       "    .dataframe thead th {\n",
       "        text-align: right;\n",
       "    }\n",
       "</style>\n",
       "<table border=\"1\" class=\"dataframe\">\n",
       "  <thead>\n",
       "    <tr style=\"text-align: right;\">\n",
       "      <th>feature</th>\n",
       "      <th>name</th>\n",
       "      <th>gender</th>\n",
       "      <th>marriage</th>\n",
       "    </tr>\n",
       "    <tr>\n",
       "      <th>customer</th>\n",
       "      <th></th>\n",
       "      <th></th>\n",
       "      <th></th>\n",
       "    </tr>\n",
       "  </thead>\n",
       "  <tbody>\n",
       "    <tr>\n",
       "      <th>user_1</th>\n",
       "      <td>임정섭</td>\n",
       "      <td>m</td>\n",
       "      <td>True</td>\n",
       "    </tr>\n",
       "    <tr>\n",
       "      <th>user_2</th>\n",
       "      <td>임재원</td>\n",
       "      <td>m</td>\n",
       "      <td>False</td>\n",
       "    </tr>\n",
       "  </tbody>\n",
       "</table>\n",
       "</div>"
      ],
      "text/plain": [
       "feature  name gender  marriage\n",
       "customer                      \n",
       "user_1    임정섭      m      True\n",
       "user_2    임재원      m     False"
      ]
     },
     "metadata": {},
     "output_type": "display_data"
    }
   ],
   "source": [
    "list_frm.index.name = 'customer'\n",
    "list_frm.columns.name = 'feature'\n",
    "frmInfo(list_frm)"
   ]
  },
  {
   "cell_type": "code",
   "execution_count": 87,
   "id": "e298a4a2",
   "metadata": {},
   "outputs": [
    {
     "name": "stdout",
     "output_type": "stream",
     "text": [
      "shape -  (2, 3)\n",
      "size -  6\n",
      "ndim -  2\n",
      "row index -  Index(['user_1', 'user_2'], dtype='object', name='customer') <class 'pandas.core.indexes.base.Index'>\n",
      "col index -  Index(['name', 'gender', 'marriage'], dtype='object', name='feature') <class 'pandas.core.indexes.base.Index'>\n",
      "values -  [['임정섭' 'm' True]\n",
      " ['임재원' 'm' False]]\n",
      "\n",
      "data - \n"
     ]
    },
    {
     "data": {
      "text/html": [
       "<div>\n",
       "<style scoped>\n",
       "    .dataframe tbody tr th:only-of-type {\n",
       "        vertical-align: middle;\n",
       "    }\n",
       "\n",
       "    .dataframe tbody tr th {\n",
       "        vertical-align: top;\n",
       "    }\n",
       "\n",
       "    .dataframe thead th {\n",
       "        text-align: right;\n",
       "    }\n",
       "</style>\n",
       "<table border=\"1\" class=\"dataframe\">\n",
       "  <thead>\n",
       "    <tr style=\"text-align: right;\">\n",
       "      <th>feature</th>\n",
       "      <th>name</th>\n",
       "      <th>gender</th>\n",
       "      <th>marriage</th>\n",
       "    </tr>\n",
       "    <tr>\n",
       "      <th>customer</th>\n",
       "      <th></th>\n",
       "      <th></th>\n",
       "      <th></th>\n",
       "    </tr>\n",
       "  </thead>\n",
       "  <tbody>\n",
       "    <tr>\n",
       "      <th>user_1</th>\n",
       "      <td>임정섭</td>\n",
       "      <td>m</td>\n",
       "      <td>True</td>\n",
       "    </tr>\n",
       "    <tr>\n",
       "      <th>user_2</th>\n",
       "      <td>임재원</td>\n",
       "      <td>m</td>\n",
       "      <td>False</td>\n",
       "    </tr>\n",
       "  </tbody>\n",
       "</table>\n",
       "</div>"
      ],
      "text/plain": [
       "feature  name gender  marriage\n",
       "customer                      \n",
       "user_1    임정섭      m      True\n",
       "user_2    임재원      m     False"
      ]
     },
     "metadata": {},
     "output_type": "display_data"
    },
    {
     "name": "stdout",
     "output_type": "stream",
     "text": [
      "\n",
      "customer\n",
      "feature\n"
     ]
    }
   ],
   "source": [
    "frmInfo(list_frm)\n",
    "print()\n",
    "\n",
    "print(list_frm.index.name)\n",
    "print(list_frm.columns.name)"
   ]
  },
  {
   "cell_type": "code",
   "execution_count": null,
   "id": "fe7b080a",
   "metadata": {},
   "outputs": [],
   "source": []
  },
  {
   "cell_type": "code",
   "execution_count": 88,
   "id": "d51c541a",
   "metadata": {},
   "outputs": [
    {
     "name": "stdout",
     "output_type": "stream",
     "text": [
      "data extract - \n",
      " customer\n",
      "user_1    임정섭\n",
      "user_2    임재원\n",
      "Name: name, dtype: object <class 'pandas.core.series.Series'>\n"
     ]
    }
   ],
   "source": [
    "print('data extract - \\n', list_frm['name'], type(list_frm['name']))"
   ]
  },
  {
   "cell_type": "code",
   "execution_count": 89,
   "id": "93049add",
   "metadata": {},
   "outputs": [
    {
     "name": "stdout",
     "output_type": "stream",
     "text": [
      "add feature - \n"
     ]
    },
    {
     "data": {
      "text/html": [
       "<div>\n",
       "<style scoped>\n",
       "    .dataframe tbody tr th:only-of-type {\n",
       "        vertical-align: middle;\n",
       "    }\n",
       "\n",
       "    .dataframe tbody tr th {\n",
       "        vertical-align: top;\n",
       "    }\n",
       "\n",
       "    .dataframe thead th {\n",
       "        text-align: right;\n",
       "    }\n",
       "</style>\n",
       "<table border=\"1\" class=\"dataframe\">\n",
       "  <thead>\n",
       "    <tr style=\"text-align: right;\">\n",
       "      <th>feature</th>\n",
       "      <th>name</th>\n",
       "      <th>gender</th>\n",
       "      <th>marriage</th>\n",
       "      <th>age</th>\n",
       "    </tr>\n",
       "    <tr>\n",
       "      <th>customer</th>\n",
       "      <th></th>\n",
       "      <th></th>\n",
       "      <th></th>\n",
       "      <th></th>\n",
       "    </tr>\n",
       "  </thead>\n",
       "  <tbody>\n",
       "    <tr>\n",
       "      <th>user_1</th>\n",
       "      <td>임정섭</td>\n",
       "      <td>m</td>\n",
       "      <td>True</td>\n",
       "      <td>20</td>\n",
       "    </tr>\n",
       "    <tr>\n",
       "      <th>user_2</th>\n",
       "      <td>임재원</td>\n",
       "      <td>m</td>\n",
       "      <td>False</td>\n",
       "      <td>30</td>\n",
       "    </tr>\n",
       "  </tbody>\n",
       "</table>\n",
       "</div>"
      ],
      "text/plain": [
       "feature  name gender  marriage  age\n",
       "customer                           \n",
       "user_1    임정섭      m      True   20\n",
       "user_2    임재원      m     False   30"
      ]
     },
     "execution_count": 89,
     "metadata": {},
     "output_type": "execute_result"
    }
   ],
   "source": [
    "print('add feature - ')\n",
    "list_frm['age'] = [20, 30]\n",
    "list_frm"
   ]
  },
  {
   "cell_type": "code",
   "execution_count": 90,
   "id": "0fc5f62a",
   "metadata": {},
   "outputs": [
    {
     "name": "stdout",
     "output_type": "stream",
     "text": [
      "del feature - \n"
     ]
    },
    {
     "data": {
      "text/html": [
       "<div>\n",
       "<style scoped>\n",
       "    .dataframe tbody tr th:only-of-type {\n",
       "        vertical-align: middle;\n",
       "    }\n",
       "\n",
       "    .dataframe tbody tr th {\n",
       "        vertical-align: top;\n",
       "    }\n",
       "\n",
       "    .dataframe thead th {\n",
       "        text-align: right;\n",
       "    }\n",
       "</style>\n",
       "<table border=\"1\" class=\"dataframe\">\n",
       "  <thead>\n",
       "    <tr style=\"text-align: right;\">\n",
       "      <th>feature</th>\n",
       "      <th>name</th>\n",
       "      <th>gender</th>\n",
       "      <th>marriage</th>\n",
       "    </tr>\n",
       "    <tr>\n",
       "      <th>customer</th>\n",
       "      <th></th>\n",
       "      <th></th>\n",
       "      <th></th>\n",
       "    </tr>\n",
       "  </thead>\n",
       "  <tbody>\n",
       "    <tr>\n",
       "      <th>user_1</th>\n",
       "      <td>임정섭</td>\n",
       "      <td>m</td>\n",
       "      <td>True</td>\n",
       "    </tr>\n",
       "    <tr>\n",
       "      <th>user_2</th>\n",
       "      <td>임재원</td>\n",
       "      <td>m</td>\n",
       "      <td>False</td>\n",
       "    </tr>\n",
       "  </tbody>\n",
       "</table>\n",
       "</div>"
      ],
      "text/plain": [
       "feature  name gender  marriage\n",
       "customer                      \n",
       "user_1    임정섭      m      True\n",
       "user_2    임재원      m     False"
      ]
     },
     "execution_count": 90,
     "metadata": {},
     "output_type": "execute_result"
    }
   ],
   "source": [
    "print('del feature - ')\n",
    "del list_frm['age']\n",
    "list_frm"
   ]
  },
  {
   "cell_type": "markdown",
   "id": "a0cb48b5",
   "metadata": {},
   "source": [
    "- 행 인덱싱: 무조건 슬라이싱\n",
    "- 배열 인덱싱, 라벨 인덱싱, 숫자 인덱싱 가능"
   ]
  },
  {
   "cell_type": "code",
   "execution_count": 97,
   "id": "f7064948",
   "metadata": {},
   "outputs": [
    {
     "data": {
      "text/html": [
       "<div>\n",
       "<style scoped>\n",
       "    .dataframe tbody tr th:only-of-type {\n",
       "        vertical-align: middle;\n",
       "    }\n",
       "\n",
       "    .dataframe tbody tr th {\n",
       "        vertical-align: top;\n",
       "    }\n",
       "\n",
       "    .dataframe thead th {\n",
       "        text-align: right;\n",
       "    }\n",
       "</style>\n",
       "<table border=\"1\" class=\"dataframe\">\n",
       "  <thead>\n",
       "    <tr style=\"text-align: right;\">\n",
       "      <th>feature</th>\n",
       "      <th>name</th>\n",
       "      <th>gender</th>\n",
       "      <th>marriage</th>\n",
       "    </tr>\n",
       "    <tr>\n",
       "      <th>customer</th>\n",
       "      <th></th>\n",
       "      <th></th>\n",
       "      <th></th>\n",
       "    </tr>\n",
       "  </thead>\n",
       "  <tbody>\n",
       "    <tr>\n",
       "      <th>user_1</th>\n",
       "      <td>임정섭</td>\n",
       "      <td>m</td>\n",
       "      <td>True</td>\n",
       "    </tr>\n",
       "  </tbody>\n",
       "</table>\n",
       "</div>"
      ],
      "text/plain": [
       "feature  name gender  marriage\n",
       "customer                      \n",
       "user_1    임정섭      m      True"
      ]
     },
     "execution_count": 97,
     "metadata": {},
     "output_type": "execute_result"
    }
   ],
   "source": [
    "list_frm[:1]"
   ]
  },
  {
   "cell_type": "code",
   "execution_count": 101,
   "id": "528c0c8a",
   "metadata": {},
   "outputs": [
    {
     "data": {
      "text/html": [
       "<div>\n",
       "<style scoped>\n",
       "    .dataframe tbody tr th:only-of-type {\n",
       "        vertical-align: middle;\n",
       "    }\n",
       "\n",
       "    .dataframe tbody tr th {\n",
       "        vertical-align: top;\n",
       "    }\n",
       "\n",
       "    .dataframe thead th {\n",
       "        text-align: right;\n",
       "    }\n",
       "</style>\n",
       "<table border=\"1\" class=\"dataframe\">\n",
       "  <thead>\n",
       "    <tr style=\"text-align: right;\">\n",
       "      <th>feature</th>\n",
       "      <th>name</th>\n",
       "      <th>gender</th>\n",
       "      <th>marriage</th>\n",
       "    </tr>\n",
       "    <tr>\n",
       "      <th>customer</th>\n",
       "      <th></th>\n",
       "      <th></th>\n",
       "      <th></th>\n",
       "    </tr>\n",
       "  </thead>\n",
       "  <tbody>\n",
       "    <tr>\n",
       "      <th>user_1</th>\n",
       "      <td>임정섭</td>\n",
       "      <td>m</td>\n",
       "      <td>True</td>\n",
       "    </tr>\n",
       "  </tbody>\n",
       "</table>\n",
       "</div>"
      ],
      "text/plain": [
       "feature  name gender  marriage\n",
       "customer                      \n",
       "user_1    임정섭      m      True"
      ]
     },
     "execution_count": 101,
     "metadata": {},
     "output_type": "execute_result"
    }
   ],
   "source": [
    "list_frm[ : 'user_1']"
   ]
  },
  {
   "cell_type": "code",
   "execution_count": 102,
   "id": "5d9efca7",
   "metadata": {},
   "outputs": [
    {
     "data": {
      "text/plain": [
       "'임재원'"
      ]
     },
     "execution_count": 102,
     "metadata": {},
     "output_type": "execute_result"
    }
   ],
   "source": [
    "list_frm['name']['user_2']"
   ]
  },
  {
   "cell_type": "code",
   "execution_count": 111,
   "id": "ca1ce6f2",
   "metadata": {
    "scrolled": true
   },
   "outputs": [
    {
     "name": "stdout",
     "output_type": "stream",
     "text": [
      "response - \n",
      "b'{\"boxOfficeResult\":{\"boxofficeType\":\"\\xec\\x9d\\xbc\\xeb\\xb3\\x84 \\xeb\\xb0\\x95\\xec\\x8a\\xa4\\xec\\x98\\xa4\\xed\\x94\\xbc\\xec\\x8a\\xa4\",\"showRange\":\"20120101~20120101\",\"dailyBoxOfficeList\":[{\"rnum\":\"1\",\"rank\":\"1\",\"rankInten\":\"0\",\"rankOldAndNew\":\"OLD\",\"movieCd\":\"20112207\",\"movieNm\":\"\\xeb\\xaf\\xb8\\xec\\x85\\x98\\xec\\x9e\\x84\\xed\\x8c\\x8c\\xec\\x84\\x9c\\xeb\\xb8\\x94:\\xea\\xb3\\xa0\\xec\\x8a\\xa4\\xed\\x8a\\xb8\\xed\\x94\\x84\\xeb\\xa1\\x9c\\xed\\x86\\xa0\\xec\\xbd\\x9c\",\"openDt\":\"2011-12-15\",\"salesAmt\":\"2776060500\",\"salesShare\":\"36.3\",\"salesInten\":\"-415699000\",\"salesChange\":\"-13\",\"salesAcc\":\"40541108500\",\"audiCnt\":\"353274\",\"audiInten\":\"-60106\",\"audiChange\":\"-14.5\",\"audiAcc\":\"5328435\",\"scrnCnt\":\"697\",\"showCnt\":\"3223\"},{\"rnum\":\"2\",\"rank\":\"2\",\"rankInten\":\"1\",\"rankOldAndNew\":\"OLD\",\"movieCd\":\"20110295\",\"movieNm\":\"\\xeb\\xa7\\x88\\xec\\x9d\\xb4 \\xec\\x9b\\xa8\\xec\\x9d\\xb4\",\"openDt\":\"2011-12-21\",\"salesAmt\":\"1189058500\",\"salesShare\":\"15.6\",\"salesInten\":\"-105894500\",\"salesChange\":\"-8.2\",\"salesAcc\":\"13002897500\",\"audiCnt\":\"153501\",\"audiInten\":\"-16465\",\"audiChange\":\"-9.7\",\"audiAcc\":\"1739543\",\"scrnCnt\":\"588\",\"showCnt\":\"2321\"},{\"rnum\":\"3\",\"rank\":\"3\",\"rankInten\":\"-1\",\"rankOldAndNew\":\"OLD\",\"movieCd\":\"20112621\",\"movieNm\":\"\\xec\\x85\\x9c\\xeb\\xa1\\x9d\\xed\\x99\\x88\\xec\\xa6\\x88 : \\xea\\xb7\\xb8\\xeb\\xa6\\xbc\\xec\\x9e\\x90 \\xea\\xb2\\x8c\\xec\\x9e\\x84\",\"openDt\":\"2011-12-21\",\"salesAmt\":\"1176022500\",\"salesShare\":\"15.4\",\"salesInten\":\"-210328500\",\"salesChange\":\"-15.2\",\"salesAcc\":\"10678327500\",\"audiCnt\":\"153004\",\"audiInten\":\"-31283\",\"audiChange\":\"-17\",\"audiAcc\":\"1442861\",\"scrnCnt\":\"360\",\"showCnt\":\"1832\"},{\"rnum\":\"4\",\"rank\":\"4\",\"rankInten\":\"0\",\"rankOldAndNew\":\"OLD\",\"movieCd\":\"20113260\",\"movieNm\":\"\\xed\\x8d\\xbc\\xed\\x8e\\x99\\xed\\x8a\\xb8 \\xea\\xb2\\x8c\\xec\\x9e\\x84\",\"openDt\":\"2011-12-21\",\"salesAmt\":\"644532000\",\"salesShare\":\"8.4\",\"salesInten\":\"-75116500\",\"salesChange\":\"-10.4\",\"salesAcc\":\"6640940000\",\"audiCnt\":\"83644\",\"audiInten\":\"-12225\",\"audiChange\":\"-12.8\",\"audiAcc\":\"895416\",\"scrnCnt\":\"396\",\"showCnt\":\"1364\"},{\"rnum\":\"5\",\"rank\":\"5\",\"rankInten\":\"0\",\"rankOldAndNew\":\"OLD\",\"movieCd\":\"20113271\",\"movieNm\":\"\\xed\\x94\\x84\\xeb\\xa0\\x8c\\xec\\xa6\\x88: \\xeb\\xaa\\xac\\xec\\x8a\\xa4\\xed\\x84\\xb0\\xec\\x84\\xac\\xec\\x9d\\x98\\xeb\\xb9\\x84\\xeb\\xb0\\x80 \",\"openDt\":\"2011-12-29\",\"salesAmt\":\"436753500\",\"salesShare\":\"5.7\",\"salesInten\":\"-89051000\",\"salesChange\":\"-16.9\",\"salesAcc\":\"1523037000\",\"audiCnt\":\"55092\",\"audiInten\":\"-15568\",\"audiChange\":\"-22\",\"audiAcc\":\"202909\",\"scrnCnt\":\"290\",\"showCnt\":\"838\"},{\"rnum\":\"6\",\"rank\":\"6\",\"rankInten\":\"1\",\"rankOldAndNew\":\"OLD\",\"movieCd\":\"19940256\",\"movieNm\":\"\\xeb\\x9d\\xbc\\xec\\x9d\\xb4\\xec\\x98\\xa8 \\xed\\x82\\xb9\",\"openDt\":\"1994-07-02\",\"salesAmt\":\"507115500\",\"salesShare\":\"6.6\",\"salesInten\":\"-114593500\",\"salesChange\":\"-18.4\",\"salesAcc\":\"1841625000\",\"audiCnt\":\"45750\",\"audiInten\":\"-11699\",\"audiChange\":\"-20.4\",\"audiAcc\":\"171285\",\"scrnCnt\":\"244\",\"showCnt\":\"895\"},{\"rnum\":\"7\",\"rank\":\"7\",\"rankInten\":\"-1\",\"rankOldAndNew\":\"OLD\",\"movieCd\":\"20113381\",\"movieNm\":\"\\xec\\x98\\xa4\\xec\\x8b\\xb9\\xed\\x95\\x9c \\xec\\x97\\xb0\\xec\\x95\\xa0\",\"openDt\":\"2011-12-01\",\"salesAmt\":\"344871000\",\"salesShare\":\"4.5\",\"salesInten\":\"-107005500\",\"salesChange\":\"-23.7\",\"salesAcc\":\"20634684500\",\"audiCnt\":\"45062\",\"audiInten\":\"-15926\",\"audiChange\":\"-26.1\",\"audiAcc\":\"2823060\",\"scrnCnt\":\"243\",\"showCnt\":\"839\"},{\"rnum\":\"8\",\"rank\":\"8\",\"rankInten\":\"0\",\"rankOldAndNew\":\"OLD\",\"movieCd\":\"20112709\",\"movieNm\":\"\\xea\\xb7\\xb9\\xec\\x9e\\xa5\\xed\\x8c\\x90 \\xed\\x8f\\xac\\xec\\xbc\\x93\\xeb\\xaa\\xac\\xec\\x8a\\xa4\\xed\\x84\\xb0 \\xeb\\xb2\\xa0\\xec\\x8a\\xa4\\xed\\x8a\\xb8 \\xec\\x9c\\x84\\xec\\x8b\\x9c\\xe3\\x80\\x8c\\xeb\\xb9\\x84\\xed\\x81\\xac\\xed\\x8b\\xb0\\xeb\\x8b\\x88\\xec\\x99\\x80 \\xeb\\xb0\\xb1\\xec\\x9d\\x98 \\xec\\x98\\x81\\xec\\x9b\\x85 \\xeb\\xa0\\x88\\xec\\x8b\\x9c\\xeb\\x9d\\xbc\\xeb\\xac\\xb4\\xe3\\x80\\x8d\",\"openDt\":\"2011-12-22\",\"salesAmt\":\"167809500\",\"salesShare\":\"2.2\",\"salesInten\":\"-45900500\",\"salesChange\":\"-21.5\",\"salesAcc\":\"1897120000\",\"audiCnt\":\"24202\",\"audiInten\":\"-7756\",\"audiChange\":\"-24.3\",\"audiAcc\":\"285959\",\"scrnCnt\":\"186\",\"showCnt\":\"348\"},{\"rnum\":\"9\",\"rank\":\"9\",\"rankInten\":\"0\",\"rankOldAndNew\":\"OLD\",\"movieCd\":\"20113311\",\"movieNm\":\"\\xec\\x95\\xa8\\xeb\\xb9\\x88\\xea\\xb3\\xbc \\xec\\x8a\\x88\\xed\\x8d\\xbc\\xeb\\xb0\\xb4\\xeb\\x93\\x9c3\",\"openDt\":\"2011-12-15\",\"salesAmt\":\"137030000\",\"salesShare\":\"1.8\",\"salesInten\":\"-35408000\",\"salesChange\":\"-20.5\",\"salesAcc\":\"3416675000\",\"audiCnt\":\"19729\",\"audiInten\":\"-6461\",\"audiChange\":\"-24.7\",\"audiAcc\":\"516289\",\"scrnCnt\":\"169\",\"showCnt\":\"359\"},{\"rnum\":\"10\",\"rank\":\"10\",\"rankInten\":\"0\",\"rankOldAndNew\":\"OLD\",\"movieCd\":\"20112708\",\"movieNm\":\"\\xea\\xb7\\xb9\\xec\\x9e\\xa5\\xed\\x8c\\x90 \\xed\\x8f\\xac\\xec\\xbc\\x93\\xeb\\xaa\\xac\\xec\\x8a\\xa4\\xed\\x84\\xb0 \\xeb\\xb2\\xa0\\xec\\x8a\\xa4\\xed\\x8a\\xb8 \\xec\\x9c\\x84\\xec\\x8b\\x9c \\xe3\\x80\\x8c\\xeb\\xb9\\x84\\xed\\x81\\xac\\xed\\x8b\\xb0\\xeb\\x8b\\x88\\xec\\x99\\x80 \\xed\\x9d\\x91\\xec\\x9d\\x98 \\xec\\x98\\x81\\xec\\x9b\\x85 \\xec\\xa0\\x9c\\xed\\x81\\xac\\xeb\\xa1\\x9c\\xeb\\xac\\xb4\\xe3\\x80\\x8d\",\"openDt\":\"2011-12-22\",\"salesAmt\":\"125535500\",\"salesShare\":\"1.6\",\"salesInten\":\"-40756000\",\"salesChange\":\"-24.5\",\"salesAcc\":\"1595695000\",\"audiCnt\":\"17817\",\"audiInten\":\"-6554\",\"audiChange\":\"-26.9\",\"audiAcc\":\"235070\",\"scrnCnt\":\"175\",\"showCnt\":\"291\"}]}}'\n"
     ]
    }
   ],
   "source": [
    "import urllib\n",
    "url = 'http://kobis.or.kr/kobisopenapi/webservice/rest/boxoffice/searchDailyBoxOfficeList.json?key=f5eef3421c602c6cb7ea224104795888&targetDt=20120101'\n",
    "response_page = urllib.request.urlopen(url)\n",
    "print('response - ')\n",
    "print(response_page.read())"
   ]
  },
  {
   "cell_type": "code",
   "execution_count": 109,
   "id": "881c8ee6",
   "metadata": {},
   "outputs": [
    {
     "data": {
      "text/plain": [
       "{'boxOfficeResult': {'boxofficeType': '일별 박스오피스',\n",
       "  'showRange': '20120101~20120101',\n",
       "  'dailyBoxOfficeList': [{'rnum': '1',\n",
       "    'rank': '1',\n",
       "    'rankInten': '0',\n",
       "    'rankOldAndNew': 'OLD',\n",
       "    'movieCd': '20112207',\n",
       "    'movieNm': '미션임파서블:고스트프로토콜',\n",
       "    'openDt': '2011-12-15',\n",
       "    'salesAmt': '2776060500',\n",
       "    'salesShare': '36.3',\n",
       "    'salesInten': '-415699000',\n",
       "    'salesChange': '-13',\n",
       "    'salesAcc': '40541108500',\n",
       "    'audiCnt': '353274',\n",
       "    'audiInten': '-60106',\n",
       "    'audiChange': '-14.5',\n",
       "    'audiAcc': '5328435',\n",
       "    'scrnCnt': '697',\n",
       "    'showCnt': '3223'},\n",
       "   {'rnum': '2',\n",
       "    'rank': '2',\n",
       "    'rankInten': '1',\n",
       "    'rankOldAndNew': 'OLD',\n",
       "    'movieCd': '20110295',\n",
       "    'movieNm': '마이 웨이',\n",
       "    'openDt': '2011-12-21',\n",
       "    'salesAmt': '1189058500',\n",
       "    'salesShare': '15.6',\n",
       "    'salesInten': '-105894500',\n",
       "    'salesChange': '-8.2',\n",
       "    'salesAcc': '13002897500',\n",
       "    'audiCnt': '153501',\n",
       "    'audiInten': '-16465',\n",
       "    'audiChange': '-9.7',\n",
       "    'audiAcc': '1739543',\n",
       "    'scrnCnt': '588',\n",
       "    'showCnt': '2321'},\n",
       "   {'rnum': '3',\n",
       "    'rank': '3',\n",
       "    'rankInten': '-1',\n",
       "    'rankOldAndNew': 'OLD',\n",
       "    'movieCd': '20112621',\n",
       "    'movieNm': '셜록홈즈 : 그림자 게임',\n",
       "    'openDt': '2011-12-21',\n",
       "    'salesAmt': '1176022500',\n",
       "    'salesShare': '15.4',\n",
       "    'salesInten': '-210328500',\n",
       "    'salesChange': '-15.2',\n",
       "    'salesAcc': '10678327500',\n",
       "    'audiCnt': '153004',\n",
       "    'audiInten': '-31283',\n",
       "    'audiChange': '-17',\n",
       "    'audiAcc': '1442861',\n",
       "    'scrnCnt': '360',\n",
       "    'showCnt': '1832'},\n",
       "   {'rnum': '4',\n",
       "    'rank': '4',\n",
       "    'rankInten': '0',\n",
       "    'rankOldAndNew': 'OLD',\n",
       "    'movieCd': '20113260',\n",
       "    'movieNm': '퍼펙트 게임',\n",
       "    'openDt': '2011-12-21',\n",
       "    'salesAmt': '644532000',\n",
       "    'salesShare': '8.4',\n",
       "    'salesInten': '-75116500',\n",
       "    'salesChange': '-10.4',\n",
       "    'salesAcc': '6640940000',\n",
       "    'audiCnt': '83644',\n",
       "    'audiInten': '-12225',\n",
       "    'audiChange': '-12.8',\n",
       "    'audiAcc': '895416',\n",
       "    'scrnCnt': '396',\n",
       "    'showCnt': '1364'},\n",
       "   {'rnum': '5',\n",
       "    'rank': '5',\n",
       "    'rankInten': '0',\n",
       "    'rankOldAndNew': 'OLD',\n",
       "    'movieCd': '20113271',\n",
       "    'movieNm': '프렌즈: 몬스터섬의비밀 ',\n",
       "    'openDt': '2011-12-29',\n",
       "    'salesAmt': '436753500',\n",
       "    'salesShare': '5.7',\n",
       "    'salesInten': '-89051000',\n",
       "    'salesChange': '-16.9',\n",
       "    'salesAcc': '1523037000',\n",
       "    'audiCnt': '55092',\n",
       "    'audiInten': '-15568',\n",
       "    'audiChange': '-22',\n",
       "    'audiAcc': '202909',\n",
       "    'scrnCnt': '290',\n",
       "    'showCnt': '838'},\n",
       "   {'rnum': '6',\n",
       "    'rank': '6',\n",
       "    'rankInten': '1',\n",
       "    'rankOldAndNew': 'OLD',\n",
       "    'movieCd': '19940256',\n",
       "    'movieNm': '라이온 킹',\n",
       "    'openDt': '1994-07-02',\n",
       "    'salesAmt': '507115500',\n",
       "    'salesShare': '6.6',\n",
       "    'salesInten': '-114593500',\n",
       "    'salesChange': '-18.4',\n",
       "    'salesAcc': '1841625000',\n",
       "    'audiCnt': '45750',\n",
       "    'audiInten': '-11699',\n",
       "    'audiChange': '-20.4',\n",
       "    'audiAcc': '171285',\n",
       "    'scrnCnt': '244',\n",
       "    'showCnt': '895'},\n",
       "   {'rnum': '7',\n",
       "    'rank': '7',\n",
       "    'rankInten': '-1',\n",
       "    'rankOldAndNew': 'OLD',\n",
       "    'movieCd': '20113381',\n",
       "    'movieNm': '오싹한 연애',\n",
       "    'openDt': '2011-12-01',\n",
       "    'salesAmt': '344871000',\n",
       "    'salesShare': '4.5',\n",
       "    'salesInten': '-107005500',\n",
       "    'salesChange': '-23.7',\n",
       "    'salesAcc': '20634684500',\n",
       "    'audiCnt': '45062',\n",
       "    'audiInten': '-15926',\n",
       "    'audiChange': '-26.1',\n",
       "    'audiAcc': '2823060',\n",
       "    'scrnCnt': '243',\n",
       "    'showCnt': '839'},\n",
       "   {'rnum': '8',\n",
       "    'rank': '8',\n",
       "    'rankInten': '0',\n",
       "    'rankOldAndNew': 'OLD',\n",
       "    'movieCd': '20112709',\n",
       "    'movieNm': '극장판 포켓몬스터 베스트 위시「비크티니와 백의 영웅 레시라무」',\n",
       "    'openDt': '2011-12-22',\n",
       "    'salesAmt': '167809500',\n",
       "    'salesShare': '2.2',\n",
       "    'salesInten': '-45900500',\n",
       "    'salesChange': '-21.5',\n",
       "    'salesAcc': '1897120000',\n",
       "    'audiCnt': '24202',\n",
       "    'audiInten': '-7756',\n",
       "    'audiChange': '-24.3',\n",
       "    'audiAcc': '285959',\n",
       "    'scrnCnt': '186',\n",
       "    'showCnt': '348'},\n",
       "   {'rnum': '9',\n",
       "    'rank': '9',\n",
       "    'rankInten': '0',\n",
       "    'rankOldAndNew': 'OLD',\n",
       "    'movieCd': '20113311',\n",
       "    'movieNm': '앨빈과 슈퍼밴드3',\n",
       "    'openDt': '2011-12-15',\n",
       "    'salesAmt': '137030000',\n",
       "    'salesShare': '1.8',\n",
       "    'salesInten': '-35408000',\n",
       "    'salesChange': '-20.5',\n",
       "    'salesAcc': '3416675000',\n",
       "    'audiCnt': '19729',\n",
       "    'audiInten': '-6461',\n",
       "    'audiChange': '-24.7',\n",
       "    'audiAcc': '516289',\n",
       "    'scrnCnt': '169',\n",
       "    'showCnt': '359'},\n",
       "   {'rnum': '10',\n",
       "    'rank': '10',\n",
       "    'rankInten': '0',\n",
       "    'rankOldAndNew': 'OLD',\n",
       "    'movieCd': '20112708',\n",
       "    'movieNm': '극장판 포켓몬스터 베스트 위시 「비크티니와 흑의 영웅 제크로무」',\n",
       "    'openDt': '2011-12-22',\n",
       "    'salesAmt': '125535500',\n",
       "    'salesShare': '1.6',\n",
       "    'salesInten': '-40756000',\n",
       "    'salesChange': '-24.5',\n",
       "    'salesAcc': '1595695000',\n",
       "    'audiCnt': '17817',\n",
       "    'audiInten': '-6554',\n",
       "    'audiChange': '-26.9',\n",
       "    'audiAcc': '235070',\n",
       "    'scrnCnt': '175',\n",
       "    'showCnt': '291'}]}}"
      ]
     },
     "execution_count": 109,
     "metadata": {},
     "output_type": "execute_result"
    }
   ],
   "source": [
    "res_json = json.loads(response_page.read())\n",
    "res_json"
   ]
  },
  {
   "cell_type": "code",
   "execution_count": 114,
   "id": "23699f53",
   "metadata": {},
   "outputs": [],
   "source": [
    "data = res_json['boxOfficeResult']['dailyBoxOfficeList']"
   ]
  },
  {
   "cell_type": "code",
   "execution_count": 118,
   "id": "94ffab23",
   "metadata": {},
   "outputs": [
    {
     "name": "stdout",
     "output_type": "stream",
     "text": [
      "\n"
     ]
    },
    {
     "data": {
      "text/html": [
       "<div>\n",
       "<style scoped>\n",
       "    .dataframe tbody tr th:only-of-type {\n",
       "        vertical-align: middle;\n",
       "    }\n",
       "\n",
       "    .dataframe tbody tr th {\n",
       "        vertical-align: top;\n",
       "    }\n",
       "\n",
       "    .dataframe thead th {\n",
       "        text-align: right;\n",
       "    }\n",
       "</style>\n",
       "<table border=\"1\" class=\"dataframe\">\n",
       "  <thead>\n",
       "    <tr style=\"text-align: right;\">\n",
       "      <th></th>\n",
       "      <th>랭킹</th>\n",
       "      <th>영화제목</th>\n",
       "      <th>판매금액</th>\n",
       "    </tr>\n",
       "  </thead>\n",
       "  <tbody>\n",
       "    <tr>\n",
       "      <th>0</th>\n",
       "      <td>1</td>\n",
       "      <td>미션임파서블:고스트프로토콜</td>\n",
       "      <td>2776060500</td>\n",
       "    </tr>\n",
       "    <tr>\n",
       "      <th>1</th>\n",
       "      <td>2</td>\n",
       "      <td>마이 웨이</td>\n",
       "      <td>1189058500</td>\n",
       "    </tr>\n",
       "    <tr>\n",
       "      <th>2</th>\n",
       "      <td>3</td>\n",
       "      <td>셜록홈즈 : 그림자 게임</td>\n",
       "      <td>1176022500</td>\n",
       "    </tr>\n",
       "    <tr>\n",
       "      <th>3</th>\n",
       "      <td>4</td>\n",
       "      <td>퍼펙트 게임</td>\n",
       "      <td>644532000</td>\n",
       "    </tr>\n",
       "    <tr>\n",
       "      <th>4</th>\n",
       "      <td>5</td>\n",
       "      <td>프렌즈: 몬스터섬의비밀</td>\n",
       "      <td>436753500</td>\n",
       "    </tr>\n",
       "    <tr>\n",
       "      <th>5</th>\n",
       "      <td>6</td>\n",
       "      <td>라이온 킹</td>\n",
       "      <td>507115500</td>\n",
       "    </tr>\n",
       "    <tr>\n",
       "      <th>6</th>\n",
       "      <td>7</td>\n",
       "      <td>오싹한 연애</td>\n",
       "      <td>344871000</td>\n",
       "    </tr>\n",
       "    <tr>\n",
       "      <th>7</th>\n",
       "      <td>8</td>\n",
       "      <td>극장판 포켓몬스터 베스트 위시「비크티니와 백의 영웅 레시라무」</td>\n",
       "      <td>167809500</td>\n",
       "    </tr>\n",
       "    <tr>\n",
       "      <th>8</th>\n",
       "      <td>9</td>\n",
       "      <td>앨빈과 슈퍼밴드3</td>\n",
       "      <td>137030000</td>\n",
       "    </tr>\n",
       "    <tr>\n",
       "      <th>9</th>\n",
       "      <td>10</td>\n",
       "      <td>극장판 포켓몬스터 베스트 위시 「비크티니와 흑의 영웅 제크로무」</td>\n",
       "      <td>125535500</td>\n",
       "    </tr>\n",
       "  </tbody>\n",
       "</table>\n",
       "</div>"
      ],
      "text/plain": [
       "   랭킹                                 영화제목        판매금액\n",
       "0   1                       미션임파서블:고스트프로토콜  2776060500\n",
       "1   2                                마이 웨이  1189058500\n",
       "2   3                        셜록홈즈 : 그림자 게임  1176022500\n",
       "3   4                               퍼펙트 게임   644532000\n",
       "4   5                        프렌즈: 몬스터섬의비밀    436753500\n",
       "5   6                                라이온 킹   507115500\n",
       "6   7                               오싹한 연애   344871000\n",
       "7   8   극장판 포켓몬스터 베스트 위시「비크티니와 백의 영웅 레시라무」   167809500\n",
       "8   9                            앨빈과 슈퍼밴드3   137030000\n",
       "9  10  극장판 포켓몬스터 베스트 위시 「비크티니와 흑의 영웅 제크로무」   125535500"
      ]
     },
     "metadata": {},
     "output_type": "display_data"
    },
    {
     "name": "stdout",
     "output_type": "stream",
     "text": [
      "\n",
      "shape -  (10, 3)\n",
      "size -  30\n",
      "ndim -  2\n",
      "row index -  RangeIndex(start=0, stop=10, step=1) <class 'pandas.core.indexes.range.RangeIndex'>\n",
      "col index -  Index(['랭킹', '영화제목', '판매금액'], dtype='object') <class 'pandas.core.indexes.base.Index'>\n",
      "values -  [['1' '미션임파서블:고스트프로토콜' '2776060500']\n",
      " ['2' '마이 웨이' '1189058500']\n",
      " ['3' '셜록홈즈 : 그림자 게임' '1176022500']\n",
      " ['4' '퍼펙트 게임' '644532000']\n",
      " ['5' '프렌즈: 몬스터섬의비밀 ' '436753500']\n",
      " ['6' '라이온 킹' '507115500']\n",
      " ['7' '오싹한 연애' '344871000']\n",
      " ['8' '극장판 포켓몬스터 베스트 위시「비크티니와 백의 영웅 레시라무」' '167809500']\n",
      " ['9' '앨빈과 슈퍼밴드3' '137030000']\n",
      " ['10' '극장판 포켓몬스터 베스트 위시 「비크티니와 흑의 영웅 제크로무」' '125535500']]\n",
      "\n",
      "data - \n"
     ]
    },
    {
     "data": {
      "text/html": [
       "<div>\n",
       "<style scoped>\n",
       "    .dataframe tbody tr th:only-of-type {\n",
       "        vertical-align: middle;\n",
       "    }\n",
       "\n",
       "    .dataframe tbody tr th {\n",
       "        vertical-align: top;\n",
       "    }\n",
       "\n",
       "    .dataframe thead th {\n",
       "        text-align: right;\n",
       "    }\n",
       "</style>\n",
       "<table border=\"1\" class=\"dataframe\">\n",
       "  <thead>\n",
       "    <tr style=\"text-align: right;\">\n",
       "      <th></th>\n",
       "      <th>랭킹</th>\n",
       "      <th>영화제목</th>\n",
       "      <th>판매금액</th>\n",
       "    </tr>\n",
       "  </thead>\n",
       "  <tbody>\n",
       "    <tr>\n",
       "      <th>0</th>\n",
       "      <td>1</td>\n",
       "      <td>미션임파서블:고스트프로토콜</td>\n",
       "      <td>2776060500</td>\n",
       "    </tr>\n",
       "    <tr>\n",
       "      <th>1</th>\n",
       "      <td>2</td>\n",
       "      <td>마이 웨이</td>\n",
       "      <td>1189058500</td>\n",
       "    </tr>\n",
       "    <tr>\n",
       "      <th>2</th>\n",
       "      <td>3</td>\n",
       "      <td>셜록홈즈 : 그림자 게임</td>\n",
       "      <td>1176022500</td>\n",
       "    </tr>\n",
       "    <tr>\n",
       "      <th>3</th>\n",
       "      <td>4</td>\n",
       "      <td>퍼펙트 게임</td>\n",
       "      <td>644532000</td>\n",
       "    </tr>\n",
       "    <tr>\n",
       "      <th>4</th>\n",
       "      <td>5</td>\n",
       "      <td>프렌즈: 몬스터섬의비밀</td>\n",
       "      <td>436753500</td>\n",
       "    </tr>\n",
       "    <tr>\n",
       "      <th>5</th>\n",
       "      <td>6</td>\n",
       "      <td>라이온 킹</td>\n",
       "      <td>507115500</td>\n",
       "    </tr>\n",
       "    <tr>\n",
       "      <th>6</th>\n",
       "      <td>7</td>\n",
       "      <td>오싹한 연애</td>\n",
       "      <td>344871000</td>\n",
       "    </tr>\n",
       "    <tr>\n",
       "      <th>7</th>\n",
       "      <td>8</td>\n",
       "      <td>극장판 포켓몬스터 베스트 위시「비크티니와 백의 영웅 레시라무」</td>\n",
       "      <td>167809500</td>\n",
       "    </tr>\n",
       "    <tr>\n",
       "      <th>8</th>\n",
       "      <td>9</td>\n",
       "      <td>앨빈과 슈퍼밴드3</td>\n",
       "      <td>137030000</td>\n",
       "    </tr>\n",
       "    <tr>\n",
       "      <th>9</th>\n",
       "      <td>10</td>\n",
       "      <td>극장판 포켓몬스터 베스트 위시 「비크티니와 흑의 영웅 제크로무」</td>\n",
       "      <td>125535500</td>\n",
       "    </tr>\n",
       "  </tbody>\n",
       "</table>\n",
       "</div>"
      ],
      "text/plain": [
       "   랭킹                                 영화제목        판매금액\n",
       "0   1                       미션임파서블:고스트프로토콜  2776060500\n",
       "1   2                                마이 웨이  1189058500\n",
       "2   3                        셜록홈즈 : 그림자 게임  1176022500\n",
       "3   4                               퍼펙트 게임   644532000\n",
       "4   5                        프렌즈: 몬스터섬의비밀    436753500\n",
       "5   6                                라이온 킹   507115500\n",
       "6   7                               오싹한 연애   344871000\n",
       "7   8   극장판 포켓몬스터 베스트 위시「비크티니와 백의 영웅 레시라무」   167809500\n",
       "8   9                            앨빈과 슈퍼밴드3   137030000\n",
       "9  10  극장판 포켓몬스터 베스트 위시 「비크티니와 흑의 영웅 제크로무」   125535500"
      ]
     },
     "metadata": {},
     "output_type": "display_data"
    }
   ],
   "source": [
    "#case1\n",
    "lst = []\n",
    "for tmp_dict in data :\n",
    "    lst.append( [tmp_dict['rnum'], tmp_dict['movieNm'], tmp_dict['salesAmt']] )\n",
    "print()\n",
    "\n",
    "movie_frm = pd.DataFrame(lst,\n",
    "                        columns = ['랭킹', '영화제목', '판매금액'])\n",
    "display(movie_frm)\n",
    "print()\n",
    "frmInfo(movie_frm)"
   ]
  },
  {
   "cell_type": "code",
   "execution_count": 116,
   "id": "5ced705d",
   "metadata": {},
   "outputs": [
    {
     "data": {
      "text/html": [
       "<div>\n",
       "<style scoped>\n",
       "    .dataframe tbody tr th:only-of-type {\n",
       "        vertical-align: middle;\n",
       "    }\n",
       "\n",
       "    .dataframe tbody tr th {\n",
       "        vertical-align: top;\n",
       "    }\n",
       "\n",
       "    .dataframe thead th {\n",
       "        text-align: right;\n",
       "    }\n",
       "</style>\n",
       "<table border=\"1\" class=\"dataframe\">\n",
       "  <thead>\n",
       "    <tr style=\"text-align: right;\">\n",
       "      <th></th>\n",
       "      <th>rnum</th>\n",
       "      <th>movieNm</th>\n",
       "      <th>salesAmt</th>\n",
       "    </tr>\n",
       "  </thead>\n",
       "  <tbody>\n",
       "    <tr>\n",
       "      <th>0</th>\n",
       "      <td>1</td>\n",
       "      <td>미션임파서블:고스트프로토콜</td>\n",
       "      <td>2776060500</td>\n",
       "    </tr>\n",
       "    <tr>\n",
       "      <th>1</th>\n",
       "      <td>2</td>\n",
       "      <td>마이 웨이</td>\n",
       "      <td>1189058500</td>\n",
       "    </tr>\n",
       "    <tr>\n",
       "      <th>2</th>\n",
       "      <td>3</td>\n",
       "      <td>셜록홈즈 : 그림자 게임</td>\n",
       "      <td>1176022500</td>\n",
       "    </tr>\n",
       "    <tr>\n",
       "      <th>3</th>\n",
       "      <td>4</td>\n",
       "      <td>퍼펙트 게임</td>\n",
       "      <td>644532000</td>\n",
       "    </tr>\n",
       "    <tr>\n",
       "      <th>4</th>\n",
       "      <td>5</td>\n",
       "      <td>프렌즈: 몬스터섬의비밀</td>\n",
       "      <td>436753500</td>\n",
       "    </tr>\n",
       "    <tr>\n",
       "      <th>5</th>\n",
       "      <td>6</td>\n",
       "      <td>라이온 킹</td>\n",
       "      <td>507115500</td>\n",
       "    </tr>\n",
       "    <tr>\n",
       "      <th>6</th>\n",
       "      <td>7</td>\n",
       "      <td>오싹한 연애</td>\n",
       "      <td>344871000</td>\n",
       "    </tr>\n",
       "    <tr>\n",
       "      <th>7</th>\n",
       "      <td>8</td>\n",
       "      <td>극장판 포켓몬스터 베스트 위시「비크티니와 백의 영웅 레시라무」</td>\n",
       "      <td>167809500</td>\n",
       "    </tr>\n",
       "    <tr>\n",
       "      <th>8</th>\n",
       "      <td>9</td>\n",
       "      <td>앨빈과 슈퍼밴드3</td>\n",
       "      <td>137030000</td>\n",
       "    </tr>\n",
       "    <tr>\n",
       "      <th>9</th>\n",
       "      <td>10</td>\n",
       "      <td>극장판 포켓몬스터 베스트 위시 「비크티니와 흑의 영웅 제크로무」</td>\n",
       "      <td>125535500</td>\n",
       "    </tr>\n",
       "  </tbody>\n",
       "</table>\n",
       "</div>"
      ],
      "text/plain": [
       "  rnum                              movieNm    salesAmt\n",
       "0    1                       미션임파서블:고스트프로토콜  2776060500\n",
       "1    2                                마이 웨이  1189058500\n",
       "2    3                        셜록홈즈 : 그림자 게임  1176022500\n",
       "3    4                               퍼펙트 게임   644532000\n",
       "4    5                        프렌즈: 몬스터섬의비밀    436753500\n",
       "5    6                                라이온 킹   507115500\n",
       "6    7                               오싹한 연애   344871000\n",
       "7    8   극장판 포켓몬스터 베스트 위시「비크티니와 백의 영웅 레시라무」   167809500\n",
       "8    9                            앨빈과 슈퍼밴드3   137030000\n",
       "9   10  극장판 포켓몬스터 베스트 위시 「비크티니와 흑의 영웅 제크로무」   125535500"
      ]
     },
     "execution_count": 116,
     "metadata": {},
     "output_type": "execute_result"
    }
   ],
   "source": [
    "#case2\n",
    "pd.DataFrame(data)[['rnum', 'movieNm', 'salesAmt']]"
   ]
  },
  {
   "cell_type": "markdown",
   "id": "fdba7e9b",
   "metadata": {},
   "source": [
    "문1) 다음 조건을 만족하는 임의의 데이터 프레임을 작성해 보자\n",
    "- 조건) 열의 갯수와 행의 갯수가 각각 5개 이상이어야 한다.\n",
    "- 조건) 열에는 정수, 문자, 실수, 날짜 데이터가 각각 1개 이상 포함되어야 한다.\n",
    "\n",
    "문2) 제공된 booklist_json.json 파일로부터 데이터를 읽어들여서 데이터프레임을 작성해보자\n",
    "- hint) open() , json.load()\n",
    "- json.loads(): json으로 된 문자열 파일을 읽어들일 때\n",
    "- json.load(): json 파일을 읽어들일 때"
   ]
  },
  {
   "cell_type": "code",
   "execution_count": null,
   "id": "b476ef42",
   "metadata": {},
   "outputs": [],
   "source": []
  },
  {
   "cell_type": "code",
   "execution_count": null,
   "id": "4f846940",
   "metadata": {},
   "outputs": [],
   "source": []
  },
  {
   "cell_type": "code",
   "execution_count": null,
   "id": "7942366b",
   "metadata": {},
   "outputs": [],
   "source": []
  },
  {
   "cell_type": "code",
   "execution_count": null,
   "id": "668b7c5f",
   "metadata": {},
   "outputs": [],
   "source": []
  },
  {
   "cell_type": "code",
   "execution_count": null,
   "id": "9fe73f43",
   "metadata": {},
   "outputs": [],
   "source": []
  },
  {
   "cell_type": "code",
   "execution_count": null,
   "id": "1f1b41df",
   "metadata": {},
   "outputs": [],
   "source": []
  },
  {
   "cell_type": "code",
   "execution_count": null,
   "id": "1b0ed06e",
   "metadata": {},
   "outputs": [],
   "source": []
  }
 ],
 "metadata": {
  "kernelspec": {
   "display_name": "Python 3 (ipykernel)",
   "language": "python",
   "name": "python3"
  },
  "language_info": {
   "codemirror_mode": {
    "name": "ipython",
    "version": 3
   },
   "file_extension": ".py",
   "mimetype": "text/x-python",
   "name": "python",
   "nbconvert_exporter": "python",
   "pygments_lexer": "ipython3",
   "version": "3.9.12"
  }
 },
 "nbformat": 4,
 "nbformat_minor": 5
}
